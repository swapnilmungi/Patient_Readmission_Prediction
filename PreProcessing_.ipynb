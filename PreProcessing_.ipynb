{
  "nbformat": 4,
  "nbformat_minor": 0,
  "metadata": {
    "colab": {
      "provenance": [],
      "include_colab_link": true
    },
    "kernelspec": {
      "name": "python3",
      "display_name": "Python 3"
    },
    "language_info": {
      "name": "python"
    }
  },
  "cells": [
    {
      "cell_type": "markdown",
      "metadata": {
        "id": "view-in-github",
        "colab_type": "text"
      },
      "source": [
        "<a href=\"https://colab.research.google.com/github/swapnilmungi/Patient_Readmission_Prediction/blob/main/PreProcessing_.ipynb\" target=\"_parent\"><img src=\"https://colab.research.google.com/assets/colab-badge.svg\" alt=\"Open In Colab\"/></a>"
      ]
    },
    {
      "cell_type": "code",
      "source": [
        "from google.colab import drive\n",
        "drive.mount('/content/drive')"
      ],
      "metadata": {
        "colab": {
          "base_uri": "https://localhost:8080/"
        },
        "id": "xrwKWXWk5KnF",
        "outputId": "38ded5f7-c1f9-4d9f-ab3f-6e0575d6e80c"
      },
      "execution_count": null,
      "outputs": [
        {
          "output_type": "stream",
          "name": "stdout",
          "text": [
            "Mounted at /content/drive\n"
          ]
        }
      ]
    },
    {
      "cell_type": "code",
      "source": [
        "import pandas as pd\n",
        "import joblib\n",
        "import re"
      ],
      "metadata": {
        "id": "o4_0LWw-5VHJ"
      },
      "execution_count": null,
      "outputs": []
    },
    {
      "cell_type": "code",
      "source": [
        "df = pd.read_csv('/content/drive/MyDrive/HMGT/Data/ImportantColumns.csv')"
      ],
      "metadata": {
        "id": "qDumBmop5RE-"
      },
      "execution_count": null,
      "outputs": []
    },
    {
      "cell_type": "code",
      "source": [
        "df.shape"
      ],
      "metadata": {
        "colab": {
          "base_uri": "https://localhost:8080/"
        },
        "id": "ffgdmlUE5bdJ",
        "outputId": "04a30eb7-9fd7-4ca5-c8cf-e33fba509ea8"
      },
      "execution_count": null,
      "outputs": [
        {
          "output_type": "execute_result",
          "data": {
            "text/plain": [
              "(96446, 34)"
            ]
          },
          "metadata": {},
          "execution_count": 4
        }
      ]
    },
    {
      "cell_type": "code",
      "source": [
        "#V2\n",
        "df = df.loc[df['readmitted'] != '>30']"
      ],
      "metadata": {
        "id": "2BQsrhKYrDFr"
      },
      "execution_count": null,
      "outputs": []
    },
    {
      "cell_type": "code",
      "source": [
        "df['readmitted'].value_counts()"
      ],
      "metadata": {
        "colab": {
          "base_uri": "https://localhost:8080/"
        },
        "id": "OMsZlCEb9er2",
        "outputId": "43f65939-fc87-4fac-b781-5b2e99aef5d5"
      },
      "execution_count": null,
      "outputs": [
        {
          "output_type": "execute_result",
          "data": {
            "text/plain": [
              "NO     50731\n",
              "<30    11066\n",
              "Name: readmitted, dtype: int64"
            ]
          },
          "metadata": {},
          "execution_count": 7
        }
      ]
    },
    {
      "cell_type": "code",
      "source": [
        "df.info()"
      ],
      "metadata": {
        "colab": {
          "base_uri": "https://localhost:8080/"
        },
        "id": "YJyOrDVF5diG",
        "outputId": "50b2b7c5-31a0-41e8-ebde-7ec403eee9ae"
      },
      "execution_count": null,
      "outputs": [
        {
          "output_type": "stream",
          "name": "stdout",
          "text": [
            "<class 'pandas.core.frame.DataFrame'>\n",
            "Int64Index: 61797 entries, 1 to 96445\n",
            "Data columns (total 34 columns):\n",
            " #   Column                    Non-Null Count  Dtype \n",
            "---  ------                    --------------  ----- \n",
            " 0   Unnamed: 0.1              61797 non-null  int64 \n",
            " 1   Unnamed: 0                61797 non-null  int64 \n",
            " 2   encounter_id              61797 non-null  int64 \n",
            " 3   patient_nbr               61797 non-null  int64 \n",
            " 4   race                      61797 non-null  object\n",
            " 5   gender                    61797 non-null  object\n",
            " 6   age                       61797 non-null  object\n",
            " 7   admission_type_id         61797 non-null  int64 \n",
            " 8   discharge_disposition_id  61797 non-null  int64 \n",
            " 9   admission_source_id       61797 non-null  int64 \n",
            " 10  time_in_hospital          61797 non-null  int64 \n",
            " 11  num_lab_procedures        61797 non-null  int64 \n",
            " 12  num_procedures            61797 non-null  int64 \n",
            " 13  num_medications           61797 non-null  int64 \n",
            " 14  number_outpatient         61797 non-null  int64 \n",
            " 15  number_emergency          61797 non-null  int64 \n",
            " 16  number_inpatient          61797 non-null  int64 \n",
            " 17  diag_1                    61797 non-null  object\n",
            " 18  diag_2                    61797 non-null  object\n",
            " 19  diag_3                    61797 non-null  object\n",
            " 20  number_diagnoses          61797 non-null  int64 \n",
            " 21  max_glu_serum             61797 non-null  object\n",
            " 22  A1Cresult                 61797 non-null  object\n",
            " 23  metformin                 61797 non-null  object\n",
            " 24  glimepiride               61797 non-null  object\n",
            " 25  glipizide                 61797 non-null  object\n",
            " 26  glyburide                 61797 non-null  object\n",
            " 27  pioglitazone              61797 non-null  object\n",
            " 28  rosiglitazone             61797 non-null  object\n",
            " 29  insulin                   61797 non-null  object\n",
            " 30  metformin-pioglitazone    61797 non-null  object\n",
            " 31  change                    61797 non-null  object\n",
            " 32  diabetesMed               61797 non-null  object\n",
            " 33  readmitted                61797 non-null  object\n",
            "dtypes: int64(15), object(19)\n",
            "memory usage: 16.5+ MB\n"
          ]
        }
      ]
    },
    {
      "cell_type": "code",
      "source": [
        "df['max_glu_serum'].value_counts()"
      ],
      "metadata": {
        "colab": {
          "base_uri": "https://localhost:8080/"
        },
        "id": "ddYy07hQ-EiM",
        "outputId": "bd732f41-06ad-4053-dd2a-0334364492b6"
      },
      "execution_count": null,
      "outputs": [
        {
          "output_type": "execute_result",
          "data": {
            "text/plain": [
              "None    58602\n",
              "Norm     1644\n",
              ">200      885\n",
              ">300      666\n",
              "Name: max_glu_serum, dtype: int64"
            ]
          },
          "metadata": {},
          "execution_count": 9
        }
      ]
    },
    {
      "cell_type": "code",
      "source": [
        "df.columns\n"
      ],
      "metadata": {
        "colab": {
          "base_uri": "https://localhost:8080/"
        },
        "id": "z8mUELr29_si",
        "outputId": "5d6b4a60-bff7-4c5e-ff9f-1c66e8bfbc07"
      },
      "execution_count": null,
      "outputs": [
        {
          "output_type": "execute_result",
          "data": {
            "text/plain": [
              "Index(['Unnamed: 0.1', 'Unnamed: 0', 'encounter_id', 'patient_nbr', 'race',\n",
              "       'gender', 'age', 'admission_type_id', 'discharge_disposition_id',\n",
              "       'admission_source_id', 'time_in_hospital', 'num_lab_procedures',\n",
              "       'num_procedures', 'num_medications', 'number_outpatient',\n",
              "       'number_emergency', 'number_inpatient', 'diag_1', 'diag_2', 'diag_3',\n",
              "       'number_diagnoses', 'max_glu_serum', 'A1Cresult', 'metformin',\n",
              "       'glimepiride', 'glipizide', 'glyburide', 'pioglitazone',\n",
              "       'rosiglitazone', 'insulin', 'metformin-pioglitazone', 'change',\n",
              "       'diabetesMed', 'readmitted'],\n",
              "      dtype='object')"
            ]
          },
          "metadata": {},
          "execution_count": 10
        }
      ]
    },
    {
      "cell_type": "code",
      "source": [
        "df['A1Cresult'].value_counts()"
      ],
      "metadata": {
        "colab": {
          "base_uri": "https://localhost:8080/"
        },
        "id": "YqCX48iz-hVt",
        "outputId": "a9260a63-fa8d-4a72-d97b-f3c174bcbca3"
      },
      "execution_count": null,
      "outputs": [
        {
          "output_type": "execute_result",
          "data": {
            "text/plain": [
              "None    51375\n",
              ">8       4781\n",
              "Norm     3240\n",
              ">7       2401\n",
              "Name: A1Cresult, dtype: int64"
            ]
          },
          "metadata": {},
          "execution_count": 11
        }
      ]
    },
    {
      "cell_type": "code",
      "source": [
        "#Charles Comorbidity Index\n",
        "def calculateCharles(ICDcode):\n",
        "  comorbidities = []\n",
        "  categories = Comorbidities.keys()\n",
        "  for cat in categories:\n",
        "    icd9patterns = Comorbidities[cat]\n",
        "    for icd9pat in icd9patterns:\n",
        "      pat = re.compile(icd9pat)\n",
        "      matches = re.match(pat,ICDcode)\n",
        "      if matches != None: comorbidities.append(cat)\n",
        "  comorbidities = set(comorbidities)\n",
        "\n",
        "  weights = [Weights[c] for c in comorbidities]\n",
        "  #print(weight\n",
        "  return int(sum(weights))"
      ],
      "metadata": {
        "id": "inaQwvkXEW4d"
      },
      "execution_count": null,
      "outputs": []
    },
    {
      "cell_type": "code",
      "source": [
        "#Encoding\n",
        "df['change'] = df['change'].replace('Ch', 1)\n",
        "df['change'] = df['change'].replace('No', 0)\n",
        "df['gender'] = df['gender'].replace('Male', 1)\n",
        "df['gender'] = df['gender'].replace('Female', 0)\n",
        "df['diabetesMed'] = df['diabetesMed'].replace('Yes', 1)\n",
        "df['diabetesMed'] = df['diabetesMed'].replace('No', 0)\n",
        "\n",
        "#v2 df['readmitted'] = df['readmitted'].replace('>30', 0)\n",
        "df['readmitted'] = df['readmitted'].replace('<30', 1)\n",
        "df['readmitted'] = df['readmitted'].replace('NO', 0)\n",
        "\n",
        "keys = ['metformin',\n",
        "       'glimepiride', 'glipizide', 'glyburide', 'pioglitazone',\n",
        "       'rosiglitazone', 'insulin', 'metformin-pioglitazone',]\n",
        "\n",
        "keys_map = [['No']]\n",
        "for col in keys:\n",
        "    df[col] = df[col].replace('No', 0)\n",
        "    df[col] = df[col].replace('Steady', 1)\n",
        "    df[col] = df[col].replace('Up', 1)\n",
        "    df[col] = df[col].replace('Down', 1)"
      ],
      "metadata": {
        "id": "7FPFCxhh91Qo"
      },
      "execution_count": null,
      "outputs": []
    },
    {
      "cell_type": "code",
      "source": [
        "#A1c:\n",
        "\n",
        "df['A1Cresult'] = df['A1Cresult'].replace('>7', 1)\n",
        "df['A1Cresult'] = df['A1Cresult'].replace('>8', 2)\n",
        "df['A1Cresult'] = df['A1Cresult'].replace('Norm', 0)\n",
        "df['A1Cresult'] = df['A1Cresult'].replace('None', -1)"
      ],
      "metadata": {
        "id": "esjhicbAEEhO"
      },
      "execution_count": null,
      "outputs": []
    },
    {
      "cell_type": "code",
      "source": [
        "#MAx glu serum\n",
        "df['max_glu_serum'] = df['max_glu_serum'].replace('>200', 1)\n",
        "df['max_glu_serum'] = df['max_glu_serum'].replace('>300', 2)\n",
        "df['max_glu_serum'] = df['max_glu_serum'].replace('Norm', 0)\n",
        "df['max_glu_serum'] = df['max_glu_serum'].replace('None', -1)"
      ],
      "metadata": {
        "id": "Ses3LlufERHG"
      },
      "execution_count": null,
      "outputs": []
    },
    {
      "cell_type": "code",
      "source": [
        "#Diagnosis Variables\n"
      ],
      "metadata": {
        "id": "cIusNBZPD_TF"
      },
      "execution_count": null,
      "outputs": []
    },
    {
      "cell_type": "code",
      "source": [
        "#Age Transformation\n",
        "def age_transform(age):\n",
        "  new_age = age[1]+'0'\n",
        "  return 5+ int(new_age)\n",
        "\n",
        "df['age'] = df['age'].apply(lambda x : age_transform(x))"
      ],
      "metadata": {
        "id": "rlQXZQcFIrj0"
      },
      "execution_count": null,
      "outputs": []
    },
    {
      "cell_type": "code",
      "source": [
        "#Race\n",
        "race_dummies = pd.get_dummies(df.race)\n",
        "df = pd.concat([df, race_dummies], axis=1)\n",
        "df.drop('race',axis=1,inplace =True)"
      ],
      "metadata": {
        "id": "HPvH2rJVKoRg"
      },
      "execution_count": null,
      "outputs": []
    },
    {
      "cell_type": "markdown",
      "source": [
        "# Diagnosis Variables"
      ],
      "metadata": {
        "id": "z9GZENB0Fq8E"
      }
    },
    {
      "cell_type": "code",
      "source": [
        "Comorbidities = {\"MayocardialInfarction\": [\"410\\..*\", \"412\\..*\"],\n",
        "                 \"HeartFailure\": [\"398\\.91\", \"402\\.01\", \"402\\.11\", \"402\\.91\", \"404\\.01\", \"404\\.03\", \"404\\.11\", \"404\\.13\", \"404\\.91\", \"404\\.93\", \"425\\..*\", \"428\\..*\"],\n",
        "                 \"PeripheralVascularDisease\": [\"093\\.0\", \"437\\.3\", \"440\\..*\", \"441\\..*\", \"443\\..*\", \"47\\.1\", \"557\\.1\", \"557\\.9\", \"V43\\.4\"],\n",
        "                 \"CerebrovascularDisease\":  [\"362\\.34\", \"430\\..*\", \"431\\..*\", \"432\\..*\", \"433\\..*\", \"434\\..*\", \"435\\..*\", \"436\\..*\", \"437\\..*\", \"438\\..*\"],\n",
        "                 \"Dementia\": [\"290\\..*\", \"294.1\", \"331.2\"],\n",
        "                 \"ChronicPulmonaryDisease\": [\"416.8\", \"416.9\", \"490\\..*\", \"491\\..*\", \"492\\..*\", \"493\\..*\", \"494\\..*\", \"495\\..*\", \"496\\..*\", \"497\\..*\", \"498\\..*\", \"499\\..*\", \"500\\..*\", \"500\\..*\", \"501\\..*\", \"502\\..*\", \"503\\..*\", \"504\\..*\", \"505\\..*\", \"506.4\", \"508.1\", \"508.8\"],\n",
        "                 \"RheumaticDisease\": [\"446.5\", \"710\\..*\", \"714.0\", \"714.01\", \"714.2\", \"714.8\", \"725\\..*\"],\n",
        "                 \"PepticUlcerDisease\": [\"531\\..*\", \"532\\..*\", \"533\\..*\", \"534\\..*\"],\n",
        "                 \"MildLiverDisease\": [\"070.22\", \"070.23\", \"070.32\", \"070.33\", \"070.44\", \"070.54\", \"070.6\", \"070.9\", \"570\\..*\", \"571\\..*\", \"573.3\", \"573.4\", \"573.8\", \"573.9\", \"V42.7\"],\n",
        "                 \"DiabetesWithoutComplications\": [\"250.0\", \"250.1\", \"250.2\", \"250.3\", \"250.8\", \"250.9\"],\n",
        "                 \"DiabetesWithComplications\": [\"250.4\", \"250.5\", \"250.6\", \"250.7\"],\n",
        "                 \"HemiplegiaParaplegia\": [\"334.1\", \"342\\..*\", \"343\\..*\", \"344\\..*\"],\n",
        "                 \"RenalDisease\": [\"403.01\", \"403.11\", \"403.91\", \"404.02\", \"404.03\", \"404.12\", \"404.13\", \"404.92\", \"404.93\", \"582\\..*\", \"583\\..*\", \"585\\..*\", \"586\\..*\", \"588.0\", \"V42.0\", \"V45.1\", \"V56\\..*\"],\n",
        "                 \"Malignancy\": [\"14\\d\\..*\", \"15\\d\\..*\", \"16\\d\\..*\", \"170\\..*\", \"171\\..*\", \"172\\..*\", \"174\\..*\", \"175\\..*\", \"176\\..*\", \"177\\..*\", \"178\\..*\", \"179\\..*\", \"18\\d\\..*\", \"190\\..*\", \"191\\..*\", \"192\\..*\", \"193\\..*\", \"194\\..*\", \"195\\..*\", \"20\\d\\..*\", \"238.6\"],\n",
        "                 \"ModerateSevereLiverDisease\": [\"456.0\", \"456.1\", \"456.2\", \"572\\..*\"],\n",
        "                 \"MetastaticCancer\": [\"196\\..*\", \"197\\..*\", \"198\\..*\", \"199\\..*\"],\n",
        "                 \"HIVAIDS\": [\"042\\..*\", \"043\\..*\", \"044\\..*\"],\n",
        "                 \"HypertensionUncomplicated\": [\"401\\..*\"],\n",
        "                 \"HypertensionComplicated\": [\"402\\..*\", \"403\\..*\", \"404\\..*\", \"405\\..*\"],\n",
        "                 \"Coagulopathy\":  [\"286\\..*\", \"287.1\", \"287.3\", \"287.4\", \"287.5\"],\n",
        "                 \"Obesity\": [\"278.0\"],\n",
        "                 \"WeightLoss\": [\"260\\..*\", \"261\\..*\", \"262\\..*\", \"263\\..*\", \"783.2\", \"799.4\"],\n",
        "                 \"FluidElectrolyteDisorders\": [\"253.6\", \"276\\..*\"]\n",
        "                }\n",
        "\n",
        "Weights = {\"MayocardialInfarction\": 1,\n",
        "                 \"HeartFailure\": 1,\n",
        "                 \"PeripheralVascularDisease\": 1,\n",
        "                 \"CerebrovascularDisease\":  1,\n",
        "                 \"Dementia\": 1,\n",
        "                 \"ChronicPulmonaryDisease\": 1,\n",
        "                 \"RheumaticDisease\": 1,\n",
        "                 \"PepticUlcerDisease\": 1,\n",
        "                 \"MildLiverDisease\": 1,\n",
        "                 \"DiabetesWithoutComplications\": 1,\n",
        "                 \"DiabetesWithComplications\": 2,\n",
        "                 \"HemiplegiaParaplegia\": 2,\n",
        "                 \"RenalDisease\": 2,\n",
        "                 \"Malignancy\": 2,\n",
        "                 \"ModerateSevereLiverDisease\": 3,\n",
        "                 \"MetastaticCancer\": 6,\n",
        "                 \"HIVAIDS\": 6,\n",
        "                 \"HypertensionUncomplicated\": 0,\n",
        "                 \"HypertensionComplicated\": 0,\n",
        "                 \"Coagulopathy\": 0,\n",
        "                 \"Obesity\": 0,\n",
        "                 \"WeightLoss\": 0,\n",
        "                 \"FluidElectrolyteDisorders\": 0\n",
        "                }\n",
        "def calculateCharles(ICDcode):\n",
        "  comorbidities = []\n",
        "  categories = Comorbidities.keys()\n",
        "  for cat in categories:\n",
        "    icd9patterns = Comorbidities[cat]\n",
        "    for icd9pat in icd9patterns:\n",
        "      pat = re.compile(icd9pat)\n",
        "      matches = re.match(pat,ICDcode)\n",
        "      if matches != None: comorbidities.append(cat)\n",
        "  comorbidities = set(comorbidities)\n",
        "\n",
        "  weights = [Weights[c] for c in comorbidities]\n",
        "  return int(sum(weights))\n",
        "\n",
        "df['Charles_diag_1'] = df['diag_1'].apply(lambda x : calculateCharles(x))\n",
        "df['Charles_diag_2'] = df['diag_2'].apply(lambda x : calculateCharles(x))\n",
        "df['Charles_diag_3'] = df['diag_3'].apply(lambda x : calculateCharles(x))"
      ],
      "metadata": {
        "id": "60_SECehFvoM"
      },
      "execution_count": null,
      "outputs": []
    },
    {
      "cell_type": "code",
      "source": [
        "#dropping diag variables\n",
        "df.drop(['diag_1','diag_2','diag_3'],axis=1,inplace =True)"
      ],
      "metadata": {
        "id": "dbDJ9I7MNFhV"
      },
      "execution_count": null,
      "outputs": []
    },
    {
      "cell_type": "code",
      "source": [
        "for col in df:\n",
        "  if df[col].dtype == 'object':\n",
        "    print(col)\n",
        "    df[col] = df[col].apply(lambda x : float(x))"
      ],
      "metadata": {
        "id": "odQi9SNOJ9e1"
      },
      "execution_count": null,
      "outputs": []
    },
    {
      "cell_type": "code",
      "source": [
        "df.head()"
      ],
      "metadata": {
        "colab": {
          "base_uri": "https://localhost:8080/",
          "height": 273
        },
        "id": "UZ17zI7T-Rqa",
        "outputId": "79cbd8ee-5512-43d4-bf88-579dd70dfcb2"
      },
      "execution_count": null,
      "outputs": [
        {
          "output_type": "execute_result",
          "data": {
            "text/plain": [
              "   Unnamed: 0.1  Unnamed: 0  encounter_id  patient_nbr  gender  age  \\\n",
              "1             1           2         64410     86047875       0   25   \n",
              "2             2           3        500364     82442376       1   35   \n",
              "3             3           4         16680     42519267       1   45   \n",
              "5             5           6         55842     84259809       1   65   \n",
              "7             7           8         12522     48330783       0   85   \n",
              "\n",
              "   admission_type_id  discharge_disposition_id  admission_source_id  \\\n",
              "1                  1                         1                    7   \n",
              "2                  1                         1                    7   \n",
              "3                  1                         1                    7   \n",
              "5                  3                         1                    2   \n",
              "7                  2                         1                    4   \n",
              "\n",
              "   time_in_hospital  ...  diabetesMed  readmitted  AfricanAmerican  Asian  \\\n",
              "1                 2  ...            1           0                1      0   \n",
              "2                 2  ...            1           0                0      0   \n",
              "3                 1  ...            1           0                0      0   \n",
              "5                 4  ...            1           0                0      0   \n",
              "7                13  ...            1           0                0      0   \n",
              "\n",
              "   Caucasian  Hispanic  Other  Charles_diag_1  Charles_diag_2  Charles_diag_3  \n",
              "1          0         0      0               0               0               0  \n",
              "2          1         0      0               0               2               0  \n",
              "3          1         0      0               0               0               0  \n",
              "5          1         0      0               0               0               0  \n",
              "7          1         0      0               0               0               0  \n",
              "\n",
              "[5 rows x 38 columns]"
            ],
            "text/html": [
              "\n",
              "  <div id=\"df-86c0c160-3e1f-4e72-bd4c-5c3c38972c44\" class=\"colab-df-container\">\n",
              "    <div>\n",
              "<style scoped>\n",
              "    .dataframe tbody tr th:only-of-type {\n",
              "        vertical-align: middle;\n",
              "    }\n",
              "\n",
              "    .dataframe tbody tr th {\n",
              "        vertical-align: top;\n",
              "    }\n",
              "\n",
              "    .dataframe thead th {\n",
              "        text-align: right;\n",
              "    }\n",
              "</style>\n",
              "<table border=\"1\" class=\"dataframe\">\n",
              "  <thead>\n",
              "    <tr style=\"text-align: right;\">\n",
              "      <th></th>\n",
              "      <th>Unnamed: 0.1</th>\n",
              "      <th>Unnamed: 0</th>\n",
              "      <th>encounter_id</th>\n",
              "      <th>patient_nbr</th>\n",
              "      <th>gender</th>\n",
              "      <th>age</th>\n",
              "      <th>admission_type_id</th>\n",
              "      <th>discharge_disposition_id</th>\n",
              "      <th>admission_source_id</th>\n",
              "      <th>time_in_hospital</th>\n",
              "      <th>...</th>\n",
              "      <th>diabetesMed</th>\n",
              "      <th>readmitted</th>\n",
              "      <th>AfricanAmerican</th>\n",
              "      <th>Asian</th>\n",
              "      <th>Caucasian</th>\n",
              "      <th>Hispanic</th>\n",
              "      <th>Other</th>\n",
              "      <th>Charles_diag_1</th>\n",
              "      <th>Charles_diag_2</th>\n",
              "      <th>Charles_diag_3</th>\n",
              "    </tr>\n",
              "  </thead>\n",
              "  <tbody>\n",
              "    <tr>\n",
              "      <th>1</th>\n",
              "      <td>1</td>\n",
              "      <td>2</td>\n",
              "      <td>64410</td>\n",
              "      <td>86047875</td>\n",
              "      <td>0</td>\n",
              "      <td>25</td>\n",
              "      <td>1</td>\n",
              "      <td>1</td>\n",
              "      <td>7</td>\n",
              "      <td>2</td>\n",
              "      <td>...</td>\n",
              "      <td>1</td>\n",
              "      <td>0</td>\n",
              "      <td>1</td>\n",
              "      <td>0</td>\n",
              "      <td>0</td>\n",
              "      <td>0</td>\n",
              "      <td>0</td>\n",
              "      <td>0</td>\n",
              "      <td>0</td>\n",
              "      <td>0</td>\n",
              "    </tr>\n",
              "    <tr>\n",
              "      <th>2</th>\n",
              "      <td>2</td>\n",
              "      <td>3</td>\n",
              "      <td>500364</td>\n",
              "      <td>82442376</td>\n",
              "      <td>1</td>\n",
              "      <td>35</td>\n",
              "      <td>1</td>\n",
              "      <td>1</td>\n",
              "      <td>7</td>\n",
              "      <td>2</td>\n",
              "      <td>...</td>\n",
              "      <td>1</td>\n",
              "      <td>0</td>\n",
              "      <td>0</td>\n",
              "      <td>0</td>\n",
              "      <td>1</td>\n",
              "      <td>0</td>\n",
              "      <td>0</td>\n",
              "      <td>0</td>\n",
              "      <td>2</td>\n",
              "      <td>0</td>\n",
              "    </tr>\n",
              "    <tr>\n",
              "      <th>3</th>\n",
              "      <td>3</td>\n",
              "      <td>4</td>\n",
              "      <td>16680</td>\n",
              "      <td>42519267</td>\n",
              "      <td>1</td>\n",
              "      <td>45</td>\n",
              "      <td>1</td>\n",
              "      <td>1</td>\n",
              "      <td>7</td>\n",
              "      <td>1</td>\n",
              "      <td>...</td>\n",
              "      <td>1</td>\n",
              "      <td>0</td>\n",
              "      <td>0</td>\n",
              "      <td>0</td>\n",
              "      <td>1</td>\n",
              "      <td>0</td>\n",
              "      <td>0</td>\n",
              "      <td>0</td>\n",
              "      <td>0</td>\n",
              "      <td>0</td>\n",
              "    </tr>\n",
              "    <tr>\n",
              "      <th>5</th>\n",
              "      <td>5</td>\n",
              "      <td>6</td>\n",
              "      <td>55842</td>\n",
              "      <td>84259809</td>\n",
              "      <td>1</td>\n",
              "      <td>65</td>\n",
              "      <td>3</td>\n",
              "      <td>1</td>\n",
              "      <td>2</td>\n",
              "      <td>4</td>\n",
              "      <td>...</td>\n",
              "      <td>1</td>\n",
              "      <td>0</td>\n",
              "      <td>0</td>\n",
              "      <td>0</td>\n",
              "      <td>1</td>\n",
              "      <td>0</td>\n",
              "      <td>0</td>\n",
              "      <td>0</td>\n",
              "      <td>0</td>\n",
              "      <td>0</td>\n",
              "    </tr>\n",
              "    <tr>\n",
              "      <th>7</th>\n",
              "      <td>7</td>\n",
              "      <td>8</td>\n",
              "      <td>12522</td>\n",
              "      <td>48330783</td>\n",
              "      <td>0</td>\n",
              "      <td>85</td>\n",
              "      <td>2</td>\n",
              "      <td>1</td>\n",
              "      <td>4</td>\n",
              "      <td>13</td>\n",
              "      <td>...</td>\n",
              "      <td>1</td>\n",
              "      <td>0</td>\n",
              "      <td>0</td>\n",
              "      <td>0</td>\n",
              "      <td>1</td>\n",
              "      <td>0</td>\n",
              "      <td>0</td>\n",
              "      <td>0</td>\n",
              "      <td>0</td>\n",
              "      <td>0</td>\n",
              "    </tr>\n",
              "  </tbody>\n",
              "</table>\n",
              "<p>5 rows × 38 columns</p>\n",
              "</div>\n",
              "    <div class=\"colab-df-buttons\">\n",
              "\n",
              "  <div class=\"colab-df-container\">\n",
              "    <button class=\"colab-df-convert\" onclick=\"convertToInteractive('df-86c0c160-3e1f-4e72-bd4c-5c3c38972c44')\"\n",
              "            title=\"Convert this dataframe to an interactive table.\"\n",
              "            style=\"display:none;\">\n",
              "\n",
              "  <svg xmlns=\"http://www.w3.org/2000/svg\" height=\"24px\" viewBox=\"0 -960 960 960\">\n",
              "    <path d=\"M120-120v-720h720v720H120Zm60-500h600v-160H180v160Zm220 220h160v-160H400v160Zm0 220h160v-160H400v160ZM180-400h160v-160H180v160Zm440 0h160v-160H620v160ZM180-180h160v-160H180v160Zm440 0h160v-160H620v160Z\"/>\n",
              "  </svg>\n",
              "    </button>\n",
              "\n",
              "  <style>\n",
              "    .colab-df-container {\n",
              "      display:flex;\n",
              "      gap: 12px;\n",
              "    }\n",
              "\n",
              "    .colab-df-convert {\n",
              "      background-color: #E8F0FE;\n",
              "      border: none;\n",
              "      border-radius: 50%;\n",
              "      cursor: pointer;\n",
              "      display: none;\n",
              "      fill: #1967D2;\n",
              "      height: 32px;\n",
              "      padding: 0 0 0 0;\n",
              "      width: 32px;\n",
              "    }\n",
              "\n",
              "    .colab-df-convert:hover {\n",
              "      background-color: #E2EBFA;\n",
              "      box-shadow: 0px 1px 2px rgba(60, 64, 67, 0.3), 0px 1px 3px 1px rgba(60, 64, 67, 0.15);\n",
              "      fill: #174EA6;\n",
              "    }\n",
              "\n",
              "    .colab-df-buttons div {\n",
              "      margin-bottom: 4px;\n",
              "    }\n",
              "\n",
              "    [theme=dark] .colab-df-convert {\n",
              "      background-color: #3B4455;\n",
              "      fill: #D2E3FC;\n",
              "    }\n",
              "\n",
              "    [theme=dark] .colab-df-convert:hover {\n",
              "      background-color: #434B5C;\n",
              "      box-shadow: 0px 1px 3px 1px rgba(0, 0, 0, 0.15);\n",
              "      filter: drop-shadow(0px 1px 2px rgba(0, 0, 0, 0.3));\n",
              "      fill: #FFFFFF;\n",
              "    }\n",
              "  </style>\n",
              "\n",
              "    <script>\n",
              "      const buttonEl =\n",
              "        document.querySelector('#df-86c0c160-3e1f-4e72-bd4c-5c3c38972c44 button.colab-df-convert');\n",
              "      buttonEl.style.display =\n",
              "        google.colab.kernel.accessAllowed ? 'block' : 'none';\n",
              "\n",
              "      async function convertToInteractive(key) {\n",
              "        const element = document.querySelector('#df-86c0c160-3e1f-4e72-bd4c-5c3c38972c44');\n",
              "        const dataTable =\n",
              "          await google.colab.kernel.invokeFunction('convertToInteractive',\n",
              "                                                    [key], {});\n",
              "        if (!dataTable) return;\n",
              "\n",
              "        const docLinkHtml = 'Like what you see? Visit the ' +\n",
              "          '<a target=\"_blank\" href=https://colab.research.google.com/notebooks/data_table.ipynb>data table notebook</a>'\n",
              "          + ' to learn more about interactive tables.';\n",
              "        element.innerHTML = '';\n",
              "        dataTable['output_type'] = 'display_data';\n",
              "        await google.colab.output.renderOutput(dataTable, element);\n",
              "        const docLink = document.createElement('div');\n",
              "        docLink.innerHTML = docLinkHtml;\n",
              "        element.appendChild(docLink);\n",
              "      }\n",
              "    </script>\n",
              "  </div>\n",
              "\n",
              "\n",
              "<div id=\"df-356b23c0-6248-4a07-bf7a-1c3df9b8f387\">\n",
              "  <button class=\"colab-df-quickchart\" onclick=\"quickchart('df-356b23c0-6248-4a07-bf7a-1c3df9b8f387')\"\n",
              "            title=\"Suggest charts\"\n",
              "            style=\"display:none;\">\n",
              "\n",
              "<svg xmlns=\"http://www.w3.org/2000/svg\" height=\"24px\"viewBox=\"0 0 24 24\"\n",
              "     width=\"24px\">\n",
              "    <g>\n",
              "        <path d=\"M19 3H5c-1.1 0-2 .9-2 2v14c0 1.1.9 2 2 2h14c1.1 0 2-.9 2-2V5c0-1.1-.9-2-2-2zM9 17H7v-7h2v7zm4 0h-2V7h2v10zm4 0h-2v-4h2v4z\"/>\n",
              "    </g>\n",
              "</svg>\n",
              "  </button>\n",
              "\n",
              "<style>\n",
              "  .colab-df-quickchart {\n",
              "      --bg-color: #E8F0FE;\n",
              "      --fill-color: #1967D2;\n",
              "      --hover-bg-color: #E2EBFA;\n",
              "      --hover-fill-color: #174EA6;\n",
              "      --disabled-fill-color: #AAA;\n",
              "      --disabled-bg-color: #DDD;\n",
              "  }\n",
              "\n",
              "  [theme=dark] .colab-df-quickchart {\n",
              "      --bg-color: #3B4455;\n",
              "      --fill-color: #D2E3FC;\n",
              "      --hover-bg-color: #434B5C;\n",
              "      --hover-fill-color: #FFFFFF;\n",
              "      --disabled-bg-color: #3B4455;\n",
              "      --disabled-fill-color: #666;\n",
              "  }\n",
              "\n",
              "  .colab-df-quickchart {\n",
              "    background-color: var(--bg-color);\n",
              "    border: none;\n",
              "    border-radius: 50%;\n",
              "    cursor: pointer;\n",
              "    display: none;\n",
              "    fill: var(--fill-color);\n",
              "    height: 32px;\n",
              "    padding: 0;\n",
              "    width: 32px;\n",
              "  }\n",
              "\n",
              "  .colab-df-quickchart:hover {\n",
              "    background-color: var(--hover-bg-color);\n",
              "    box-shadow: 0 1px 2px rgba(60, 64, 67, 0.3), 0 1px 3px 1px rgba(60, 64, 67, 0.15);\n",
              "    fill: var(--button-hover-fill-color);\n",
              "  }\n",
              "\n",
              "  .colab-df-quickchart-complete:disabled,\n",
              "  .colab-df-quickchart-complete:disabled:hover {\n",
              "    background-color: var(--disabled-bg-color);\n",
              "    fill: var(--disabled-fill-color);\n",
              "    box-shadow: none;\n",
              "  }\n",
              "\n",
              "  .colab-df-spinner {\n",
              "    border: 2px solid var(--fill-color);\n",
              "    border-color: transparent;\n",
              "    border-bottom-color: var(--fill-color);\n",
              "    animation:\n",
              "      spin 1s steps(1) infinite;\n",
              "  }\n",
              "\n",
              "  @keyframes spin {\n",
              "    0% {\n",
              "      border-color: transparent;\n",
              "      border-bottom-color: var(--fill-color);\n",
              "      border-left-color: var(--fill-color);\n",
              "    }\n",
              "    20% {\n",
              "      border-color: transparent;\n",
              "      border-left-color: var(--fill-color);\n",
              "      border-top-color: var(--fill-color);\n",
              "    }\n",
              "    30% {\n",
              "      border-color: transparent;\n",
              "      border-left-color: var(--fill-color);\n",
              "      border-top-color: var(--fill-color);\n",
              "      border-right-color: var(--fill-color);\n",
              "    }\n",
              "    40% {\n",
              "      border-color: transparent;\n",
              "      border-right-color: var(--fill-color);\n",
              "      border-top-color: var(--fill-color);\n",
              "    }\n",
              "    60% {\n",
              "      border-color: transparent;\n",
              "      border-right-color: var(--fill-color);\n",
              "    }\n",
              "    80% {\n",
              "      border-color: transparent;\n",
              "      border-right-color: var(--fill-color);\n",
              "      border-bottom-color: var(--fill-color);\n",
              "    }\n",
              "    90% {\n",
              "      border-color: transparent;\n",
              "      border-bottom-color: var(--fill-color);\n",
              "    }\n",
              "  }\n",
              "</style>\n",
              "\n",
              "  <script>\n",
              "    async function quickchart(key) {\n",
              "      const quickchartButtonEl =\n",
              "        document.querySelector('#' + key + ' button');\n",
              "      quickchartButtonEl.disabled = true;  // To prevent multiple clicks.\n",
              "      quickchartButtonEl.classList.add('colab-df-spinner');\n",
              "      try {\n",
              "        const charts = await google.colab.kernel.invokeFunction(\n",
              "            'suggestCharts', [key], {});\n",
              "      } catch (error) {\n",
              "        console.error('Error during call to suggestCharts:', error);\n",
              "      }\n",
              "      quickchartButtonEl.classList.remove('colab-df-spinner');\n",
              "      quickchartButtonEl.classList.add('colab-df-quickchart-complete');\n",
              "    }\n",
              "    (() => {\n",
              "      let quickchartButtonEl =\n",
              "        document.querySelector('#df-356b23c0-6248-4a07-bf7a-1c3df9b8f387 button');\n",
              "      quickchartButtonEl.style.display =\n",
              "        google.colab.kernel.accessAllowed ? 'block' : 'none';\n",
              "    })();\n",
              "  </script>\n",
              "</div>\n",
              "\n",
              "    </div>\n",
              "  </div>\n"
            ]
          },
          "metadata": {},
          "execution_count": 21
        }
      ]
    },
    {
      "cell_type": "code",
      "source": [
        "#V2\n",
        "df = df.drop_duplicates(subset= ['patient_nbr'], keep = 'first')"
      ],
      "metadata": {
        "id": "s9sJyV8Wr62B"
      },
      "execution_count": null,
      "outputs": []
    },
    {
      "cell_type": "code",
      "source": [
        "df.drop(['Unnamed: 0', 'Unnamed: 0.1', 'encounter_id', 'patient_nbr'],axis=1,inplace= True)"
      ],
      "metadata": {
        "id": "OOVKakAW5aro"
      },
      "execution_count": null,
      "outputs": []
    },
    {
      "cell_type": "code",
      "source": [
        "df['readmitted'].value_counts()"
      ],
      "metadata": {
        "colab": {
          "base_uri": "https://localhost:8080/"
        },
        "id": "w4lmxi3-sZCv",
        "outputId": "ade9146b-9527-4732-c25e-faef74bbbbb9"
      },
      "execution_count": null,
      "outputs": [
        {
          "output_type": "execute_result",
          "data": {
            "text/plain": [
              "0    46741\n",
              "1     8413\n",
              "Name: readmitted, dtype: int64"
            ]
          },
          "metadata": {},
          "execution_count": 24
        }
      ]
    },
    {
      "cell_type": "code",
      "source": [
        "\n",
        "joblib.dump(df, '/content/drive/MyDrive/HMGT/Data/ModellingReady2classes.pkl')\n",
        "#df.to_csv('ModellingReady.csv')"
      ],
      "metadata": {
        "id": "E67I0RlBOdra",
        "colab": {
          "base_uri": "https://localhost:8080/"
        },
        "outputId": "e9735e41-bae5-4ee2-bb16-9f6bcb216f4e"
      },
      "execution_count": null,
      "outputs": [
        {
          "output_type": "execute_result",
          "data": {
            "text/plain": [
              "['/content/drive/MyDrive/HMGT/Data/ModellingReady2classes.pkl']"
            ]
          },
          "metadata": {},
          "execution_count": 25
        }
      ]
    }
  ]
}